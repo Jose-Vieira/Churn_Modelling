{
 "cells": [
  {
   "cell_type": "markdown",
   "metadata": {},
   "source": [
    "# Churn Modelling using Keras"
   ]
  },
  {
   "cell_type": "code",
   "execution_count": 1,
   "metadata": {},
   "outputs": [],
   "source": [
    "import pandas as pd\n",
    "#setting pandas to show all columns\n",
    "pd.set_option('display.max_columns', None)"
   ]
  },
  {
   "cell_type": "code",
   "execution_count": 2,
   "metadata": {},
   "outputs": [],
   "source": [
    "#Loading the CSV into a Data Frame Object\n",
    "df = pd.read_csv('WA_Fn-UseC_-Telco-Customer-Churn.csv')"
   ]
  },
  {
   "cell_type": "markdown",
   "metadata": {},
   "source": [
    "### Let's take a look at our Data"
   ]
  },
  {
   "cell_type": "code",
   "execution_count": 3,
   "metadata": {},
   "outputs": [
    {
     "data": {
      "text/html": [
       "<div>\n",
       "<style scoped>\n",
       "    .dataframe tbody tr th:only-of-type {\n",
       "        vertical-align: middle;\n",
       "    }\n",
       "\n",
       "    .dataframe tbody tr th {\n",
       "        vertical-align: top;\n",
       "    }\n",
       "\n",
       "    .dataframe thead th {\n",
       "        text-align: right;\n",
       "    }\n",
       "</style>\n",
       "<table border=\"1\" class=\"dataframe\">\n",
       "  <thead>\n",
       "    <tr style=\"text-align: right;\">\n",
       "      <th></th>\n",
       "      <th>customerID</th>\n",
       "      <th>gender</th>\n",
       "      <th>SeniorCitizen</th>\n",
       "      <th>Partner</th>\n",
       "      <th>Dependents</th>\n",
       "      <th>tenure</th>\n",
       "      <th>PhoneService</th>\n",
       "      <th>MultipleLines</th>\n",
       "      <th>InternetService</th>\n",
       "      <th>OnlineSecurity</th>\n",
       "      <th>OnlineBackup</th>\n",
       "      <th>DeviceProtection</th>\n",
       "      <th>TechSupport</th>\n",
       "      <th>StreamingTV</th>\n",
       "      <th>StreamingMovies</th>\n",
       "      <th>Contract</th>\n",
       "      <th>PaperlessBilling</th>\n",
       "      <th>PaymentMethod</th>\n",
       "      <th>MonthlyCharges</th>\n",
       "      <th>TotalCharges</th>\n",
       "      <th>Churn</th>\n",
       "    </tr>\n",
       "  </thead>\n",
       "  <tbody>\n",
       "    <tr>\n",
       "      <th>0</th>\n",
       "      <td>7590-VHVEG</td>\n",
       "      <td>Female</td>\n",
       "      <td>0</td>\n",
       "      <td>Yes</td>\n",
       "      <td>No</td>\n",
       "      <td>1</td>\n",
       "      <td>No</td>\n",
       "      <td>No phone service</td>\n",
       "      <td>DSL</td>\n",
       "      <td>No</td>\n",
       "      <td>Yes</td>\n",
       "      <td>No</td>\n",
       "      <td>No</td>\n",
       "      <td>No</td>\n",
       "      <td>No</td>\n",
       "      <td>Month-to-month</td>\n",
       "      <td>Yes</td>\n",
       "      <td>Electronic check</td>\n",
       "      <td>29.85</td>\n",
       "      <td>29.85</td>\n",
       "      <td>No</td>\n",
       "    </tr>\n",
       "    <tr>\n",
       "      <th>1</th>\n",
       "      <td>5575-GNVDE</td>\n",
       "      <td>Male</td>\n",
       "      <td>0</td>\n",
       "      <td>No</td>\n",
       "      <td>No</td>\n",
       "      <td>34</td>\n",
       "      <td>Yes</td>\n",
       "      <td>No</td>\n",
       "      <td>DSL</td>\n",
       "      <td>Yes</td>\n",
       "      <td>No</td>\n",
       "      <td>Yes</td>\n",
       "      <td>No</td>\n",
       "      <td>No</td>\n",
       "      <td>No</td>\n",
       "      <td>One year</td>\n",
       "      <td>No</td>\n",
       "      <td>Mailed check</td>\n",
       "      <td>56.95</td>\n",
       "      <td>1889.5</td>\n",
       "      <td>No</td>\n",
       "    </tr>\n",
       "    <tr>\n",
       "      <th>2</th>\n",
       "      <td>3668-QPYBK</td>\n",
       "      <td>Male</td>\n",
       "      <td>0</td>\n",
       "      <td>No</td>\n",
       "      <td>No</td>\n",
       "      <td>2</td>\n",
       "      <td>Yes</td>\n",
       "      <td>No</td>\n",
       "      <td>DSL</td>\n",
       "      <td>Yes</td>\n",
       "      <td>Yes</td>\n",
       "      <td>No</td>\n",
       "      <td>No</td>\n",
       "      <td>No</td>\n",
       "      <td>No</td>\n",
       "      <td>Month-to-month</td>\n",
       "      <td>Yes</td>\n",
       "      <td>Mailed check</td>\n",
       "      <td>53.85</td>\n",
       "      <td>108.15</td>\n",
       "      <td>Yes</td>\n",
       "    </tr>\n",
       "  </tbody>\n",
       "</table>\n",
       "</div>"
      ],
      "text/plain": [
       "   customerID  gender  SeniorCitizen Partner Dependents  tenure PhoneService  \\\n",
       "0  7590-VHVEG  Female              0     Yes         No       1           No   \n",
       "1  5575-GNVDE    Male              0      No         No      34          Yes   \n",
       "2  3668-QPYBK    Male              0      No         No       2          Yes   \n",
       "\n",
       "      MultipleLines InternetService OnlineSecurity OnlineBackup  \\\n",
       "0  No phone service             DSL             No          Yes   \n",
       "1                No             DSL            Yes           No   \n",
       "2                No             DSL            Yes          Yes   \n",
       "\n",
       "  DeviceProtection TechSupport StreamingTV StreamingMovies        Contract  \\\n",
       "0               No          No          No              No  Month-to-month   \n",
       "1              Yes          No          No              No        One year   \n",
       "2               No          No          No              No  Month-to-month   \n",
       "\n",
       "  PaperlessBilling     PaymentMethod  MonthlyCharges TotalCharges Churn  \n",
       "0              Yes  Electronic check           29.85        29.85    No  \n",
       "1               No      Mailed check           56.95       1889.5    No  \n",
       "2              Yes      Mailed check           53.85       108.15   Yes  "
      ]
     },
     "execution_count": 3,
     "metadata": {},
     "output_type": "execute_result"
    }
   ],
   "source": [
    "df.head(3)"
   ]
  },
  {
   "cell_type": "markdown",
   "metadata": {},
   "source": [
    "CustomerID does not tell us anything, therefore we can delete it from the Data Frame"
   ]
  },
  {
   "cell_type": "code",
   "execution_count": 4,
   "metadata": {},
   "outputs": [],
   "source": [
    "df.drop('customerID', axis=1, inplace=True)"
   ]
  },
  {
   "cell_type": "markdown",
   "metadata": {},
   "source": [
    "With the exception of <b>Tenure</b>, <b>TotalCharges</b>, <b>MonthlyCharges</b> and <b>Churn</b> all the other variables are <b>Categorical</b>, so we should get their dummie variables.<br>\n",
    "Always remember to drop the first dummie colums for two basic reasons:<br>\n",
    "- It is always possible to <b>infer</b> the values you dropped given the values you kept.<br>\n",
    "- To avoid the <b>Dummie Variable Trap</b>.<br>\n",
    "If you don't know what that is, take a look at this webpage:<br>\n",
    "<a>http://www.algosome.com/articles/dummy-variable-trap-regression.html<a>"
   ]
  },
  {
   "cell_type": "code",
   "execution_count": 5,
   "metadata": {},
   "outputs": [],
   "source": [
    "X = pd.get_dummies(df.drop(['tenure', 'MonthlyCharges', 'TotalCharges', 'Churn'], axis=1), drop_first=True)\n",
    "#Putting together our independent variables\n",
    "X = pd.concat([X, df[['tenure', 'MonthlyCharges', 'TotalCharges']]], axis=1)"
   ]
  },
  {
   "cell_type": "code",
   "execution_count": 6,
   "metadata": {
    "scrolled": true
   },
   "outputs": [],
   "source": [
    "#Our dependent variables are basically the df 'Churn' column\n",
    "y = pd.get_dummies(df['Churn'], drop_first=True).values.ravel()"
   ]
  },
  {
   "cell_type": "markdown",
   "metadata": {},
   "source": [
    "### Taking a deeper look"
   ]
  },
  {
   "cell_type": "code",
   "execution_count": 7,
   "metadata": {
    "scrolled": true
   },
   "outputs": [
    {
     "name": "stdout",
     "output_type": "stream",
     "text": [
      "<class 'pandas.core.frame.DataFrame'>\n",
      "RangeIndex: 7043 entries, 0 to 7042\n",
      "Data columns (total 30 columns):\n",
      "SeniorCitizen                            7043 non-null int64\n",
      "gender_Male                              7043 non-null uint8\n",
      "Partner_Yes                              7043 non-null uint8\n",
      "Dependents_Yes                           7043 non-null uint8\n",
      "PhoneService_Yes                         7043 non-null uint8\n",
      "MultipleLines_No phone service           7043 non-null uint8\n",
      "MultipleLines_Yes                        7043 non-null uint8\n",
      "InternetService_Fiber optic              7043 non-null uint8\n",
      "InternetService_No                       7043 non-null uint8\n",
      "OnlineSecurity_No internet service       7043 non-null uint8\n",
      "OnlineSecurity_Yes                       7043 non-null uint8\n",
      "OnlineBackup_No internet service         7043 non-null uint8\n",
      "OnlineBackup_Yes                         7043 non-null uint8\n",
      "DeviceProtection_No internet service     7043 non-null uint8\n",
      "DeviceProtection_Yes                     7043 non-null uint8\n",
      "TechSupport_No internet service          7043 non-null uint8\n",
      "TechSupport_Yes                          7043 non-null uint8\n",
      "StreamingTV_No internet service          7043 non-null uint8\n",
      "StreamingTV_Yes                          7043 non-null uint8\n",
      "StreamingMovies_No internet service      7043 non-null uint8\n",
      "StreamingMovies_Yes                      7043 non-null uint8\n",
      "Contract_One year                        7043 non-null uint8\n",
      "Contract_Two year                        7043 non-null uint8\n",
      "PaperlessBilling_Yes                     7043 non-null uint8\n",
      "PaymentMethod_Credit card (automatic)    7043 non-null uint8\n",
      "PaymentMethod_Electronic check           7043 non-null uint8\n",
      "PaymentMethod_Mailed check               7043 non-null uint8\n",
      "tenure                                   7043 non-null int64\n",
      "MonthlyCharges                           7043 non-null float64\n",
      "TotalCharges                             7043 non-null object\n",
      "dtypes: float64(1), int64(2), object(1), uint8(26)\n",
      "memory usage: 399.0+ KB\n"
     ]
    }
   ],
   "source": [
    "X.info()"
   ]
  },
  {
   "cell_type": "markdown",
   "metadata": {},
   "source": [
    "Looking carefully it is possible to see that <b>TotalCharges</b> is being treated as a <b>Object</b> and we need it to be a <b>Float</b>.<br>\n",
    "So, let's us take care of that."
   ]
  },
  {
   "cell_type": "code",
   "execution_count": 8,
   "metadata": {},
   "outputs": [],
   "source": [
    "X['TotalCharges'] = pd.to_numeric(X['TotalCharges'], errors='coerce')\n",
    "X['TotalCharges'].fillna(0, inplace=True)"
   ]
  },
  {
   "cell_type": "code",
   "execution_count": 9,
   "metadata": {
    "scrolled": true
   },
   "outputs": [
    {
     "name": "stdout",
     "output_type": "stream",
     "text": [
      "<class 'pandas.core.frame.DataFrame'>\n",
      "RangeIndex: 7043 entries, 0 to 7042\n",
      "Data columns (total 30 columns):\n",
      "SeniorCitizen                            7043 non-null int64\n",
      "gender_Male                              7043 non-null uint8\n",
      "Partner_Yes                              7043 non-null uint8\n",
      "Dependents_Yes                           7043 non-null uint8\n",
      "PhoneService_Yes                         7043 non-null uint8\n",
      "MultipleLines_No phone service           7043 non-null uint8\n",
      "MultipleLines_Yes                        7043 non-null uint8\n",
      "InternetService_Fiber optic              7043 non-null uint8\n",
      "InternetService_No                       7043 non-null uint8\n",
      "OnlineSecurity_No internet service       7043 non-null uint8\n",
      "OnlineSecurity_Yes                       7043 non-null uint8\n",
      "OnlineBackup_No internet service         7043 non-null uint8\n",
      "OnlineBackup_Yes                         7043 non-null uint8\n",
      "DeviceProtection_No internet service     7043 non-null uint8\n",
      "DeviceProtection_Yes                     7043 non-null uint8\n",
      "TechSupport_No internet service          7043 non-null uint8\n",
      "TechSupport_Yes                          7043 non-null uint8\n",
      "StreamingTV_No internet service          7043 non-null uint8\n",
      "StreamingTV_Yes                          7043 non-null uint8\n",
      "StreamingMovies_No internet service      7043 non-null uint8\n",
      "StreamingMovies_Yes                      7043 non-null uint8\n",
      "Contract_One year                        7043 non-null uint8\n",
      "Contract_Two year                        7043 non-null uint8\n",
      "PaperlessBilling_Yes                     7043 non-null uint8\n",
      "PaymentMethod_Credit card (automatic)    7043 non-null uint8\n",
      "PaymentMethod_Electronic check           7043 non-null uint8\n",
      "PaymentMethod_Mailed check               7043 non-null uint8\n",
      "tenure                                   7043 non-null int64\n",
      "MonthlyCharges                           7043 non-null float64\n",
      "TotalCharges                             7043 non-null float64\n",
      "dtypes: float64(2), int64(2), uint8(26)\n",
      "memory usage: 399.0 KB\n"
     ]
    }
   ],
   "source": [
    "X.info()"
   ]
  },
  {
   "cell_type": "markdown",
   "metadata": {},
   "source": [
    "<b>Done!</b><br>Now we can move on to the next step."
   ]
  },
  {
   "cell_type": "markdown",
   "metadata": {},
   "source": [
    "### Scaling the independent variables"
   ]
  },
  {
   "cell_type": "markdown",
   "metadata": {},
   "source": [
    "It is always a common practice to scale our data, specially if there are some values in it that would make the smaller values seem insignificant."
   ]
  },
  {
   "cell_type": "code",
   "execution_count": 10,
   "metadata": {},
   "outputs": [],
   "source": [
    "from sklearn.preprocessing import StandardScaler\n",
    "scl = StandardScaler()\n",
    "X = scl.fit_transform(X)"
   ]
  },
  {
   "cell_type": "markdown",
   "metadata": {},
   "source": [
    "It is, however, unnecessary to scale the dependent variables. Cause that wouldn't add any value to our model since we're expecting a binary outcome."
   ]
  },
  {
   "cell_type": "markdown",
   "metadata": {
    "scrolled": true
   },
   "source": [
    "### Spliting into Train and Test sets"
   ]
  },
  {
   "cell_type": "code",
   "execution_count": 11,
   "metadata": {},
   "outputs": [],
   "source": [
    "from sklearn.model_selection import train_test_split\n",
    "X_train, X_test, y_train, y_test = train_test_split(X, y, test_size=.2, random_state=101)"
   ]
  },
  {
   "cell_type": "markdown",
   "metadata": {},
   "source": [
    "## Now what?"
   ]
  },
  {
   "cell_type": "markdown",
   "metadata": {},
   "source": [
    "Now that we have our <b>train</b> and <b>test</b> data, we must decide which way to go.<br>\n",
    "We could simply <b>fit</b> the model to the train data and make some <b>predictions</b> with it, it could even achieve a <b>high accuracy</b>. But who can garantee that its accuracy wasn't <b>just a coincidence</b>?<br><br>\n",
    "We'll get to that later on."
   ]
  },
  {
   "cell_type": "markdown",
   "metadata": {},
   "source": [
    "### The simplest way"
   ]
  },
  {
   "cell_type": "code",
   "execution_count": 12,
   "metadata": {},
   "outputs": [
    {
     "name": "stderr",
     "output_type": "stream",
     "text": [
      "Using TensorFlow backend.\n"
     ]
    }
   ],
   "source": [
    "#import keras\n",
    "import keras\n",
    "from keras.models import Sequential\n",
    "from keras.layers import Dense"
   ]
  },
  {
   "cell_type": "markdown",
   "metadata": {},
   "source": [
    "Why use <b>Keras</b>?<br>\n",
    "<b>Keras</b> is a <b>High Level API</b> written in <b>Python</b> and it is, above all, <b>very easy</b> to learn and implement. <br><br>\n",
    "So... let us proceed."
   ]
  },
  {
   "cell_type": "code",
   "execution_count": 13,
   "metadata": {},
   "outputs": [],
   "source": [
    "#creating the Model\n",
    "model = Sequential()\n",
    "model.add(Dense(units=16, kernel_initializer='uniform', activation='relu', input_dim=30)) # first hidden layer\n",
    "model.add(Dense(units=16, kernel_initializer='uniform', activation='relu')) # second hidden layer\n",
    "model.add(Dense(units=1, kernel_initializer='uniform', activation='sigmoid')) # output layer\n",
    "model.compile(optimizer='adam', loss='binary_crossentropy', metrics=['accuracy']) #compiling the model"
   ]
  },
  {
   "cell_type": "markdown",
   "metadata": {},
   "source": [
    "### What the heck happend here?!\n",
    "<br>\n",
    "<b>Sequential</b> model is a linear stack of layers.<br>\n",
    "<b>Dense</b> is a Densely-connected Neural Network Layer. It makes it incredibly easy to add layers to our NN.<br>\n",
    "The <b>units</b> parameter is the number of neurons in the current layer. It is a rule of thumb to use as it's value the sum of inputs and outputs divided by two. But, feel free to mess around with it and see what happens.<br>\n",
    "The <b>activation</b> parameter is the activation function to use in that particular layer.<br>\n",
    "The <b>input_dim</b> parameter is the dimension of the input layer.<br>\n",
    "<b>Compile</b> is the method that states the learning process of our model. It does so by defining an optimizer, a loss function (what the NN tries to minimize) and a list of metrics.<br><br>\n",
    "For more info, take a look at Keras documentation:<br>\n",
    "<a>https://keras.io/getting-started/sequential-model-guide/<a>"
   ]
  },
  {
   "cell_type": "markdown",
   "metadata": {},
   "source": [
    "Now that our model is <b>built</b>, we should <b>fit</b> it."
   ]
  },
  {
   "cell_type": "code",
   "execution_count": 14,
   "metadata": {
    "scrolled": true
   },
   "outputs": [
    {
     "name": "stdout",
     "output_type": "stream",
     "text": [
      "Epoch 1/50\n",
      "5634/5634 [==============================] - 1s 101us/step - loss: 0.5456 - acc: 0.7391\n",
      "Epoch 2/50\n",
      "5634/5634 [==============================] - 0s 18us/step - loss: 0.4362 - acc: 0.7966\n",
      "Epoch 3/50\n",
      "5634/5634 [==============================] - 0s 18us/step - loss: 0.4238 - acc: 0.8000\n",
      "Epoch 4/50\n",
      "5634/5634 [==============================] - 0s 18us/step - loss: 0.4179 - acc: 0.8019\n",
      "Epoch 5/50\n",
      "5634/5634 [==============================] - 0s 18us/step - loss: 0.4148 - acc: 0.8072\n",
      "Epoch 6/50\n",
      "5634/5634 [==============================] - 0s 18us/step - loss: 0.4130 - acc: 0.8046\n",
      "Epoch 7/50\n",
      "5634/5634 [==============================] - 0s 18us/step - loss: 0.4116 - acc: 0.8058\n",
      "Epoch 8/50\n",
      "5634/5634 [==============================] - 0s 18us/step - loss: 0.4108 - acc: 0.8062\n",
      "Epoch 9/50\n",
      "5634/5634 [==============================] - 0s 19us/step - loss: 0.4102 - acc: 0.8078\n",
      "Epoch 10/50\n",
      "5634/5634 [==============================] - 0s 18us/step - loss: 0.4086 - acc: 0.8065\n",
      "Epoch 11/50\n",
      "5634/5634 [==============================] - 0s 18us/step - loss: 0.4075 - acc: 0.8048\n",
      "Epoch 12/50\n",
      "5634/5634 [==============================] - 0s 18us/step - loss: 0.4072 - acc: 0.8101\n",
      "Epoch 13/50\n",
      "5634/5634 [==============================] - 0s 17us/step - loss: 0.4060 - acc: 0.8081\n",
      "Epoch 14/50\n",
      "5634/5634 [==============================] - 0s 17us/step - loss: 0.4053 - acc: 0.8087\n",
      "Epoch 15/50\n",
      "5634/5634 [==============================] - 0s 18us/step - loss: 0.4046 - acc: 0.8081\n",
      "Epoch 16/50\n",
      "5634/5634 [==============================] - 0s 18us/step - loss: 0.4036 - acc: 0.8095\n",
      "Epoch 17/50\n",
      "5634/5634 [==============================] - 0s 18us/step - loss: 0.4034 - acc: 0.8104\n",
      "Epoch 18/50\n",
      "5634/5634 [==============================] - 0s 18us/step - loss: 0.4030 - acc: 0.8097\n",
      "Epoch 19/50\n",
      "5634/5634 [==============================] - 0s 18us/step - loss: 0.4023 - acc: 0.8087\n",
      "Epoch 20/50\n",
      "5634/5634 [==============================] - 0s 17us/step - loss: 0.4020 - acc: 0.8072\n",
      "Epoch 21/50\n",
      "5634/5634 [==============================] - 0s 18us/step - loss: 0.4010 - acc: 0.8103\n",
      "Epoch 22/50\n",
      "5634/5634 [==============================] - 0s 18us/step - loss: 0.4003 - acc: 0.8081\n",
      "Epoch 23/50\n",
      "5634/5634 [==============================] - 0s 17us/step - loss: 0.3992 - acc: 0.8124\n",
      "Epoch 24/50\n",
      "5634/5634 [==============================] - 0s 18us/step - loss: 0.3994 - acc: 0.8120\n",
      "Epoch 25/50\n",
      "5634/5634 [==============================] - 0s 18us/step - loss: 0.3989 - acc: 0.8095\n",
      "Epoch 26/50\n",
      "5634/5634 [==============================] - 0s 17us/step - loss: 0.3985 - acc: 0.8101\n",
      "Epoch 27/50\n",
      "5634/5634 [==============================] - 0s 18us/step - loss: 0.3977 - acc: 0.8113\n",
      "Epoch 28/50\n",
      "5634/5634 [==============================] - 0s 18us/step - loss: 0.3970 - acc: 0.8127\n",
      "Epoch 29/50\n",
      "5634/5634 [==============================] - 0s 18us/step - loss: 0.3975 - acc: 0.8131\n",
      "Epoch 30/50\n",
      "5634/5634 [==============================] - 0s 18us/step - loss: 0.3964 - acc: 0.8126\n",
      "Epoch 31/50\n",
      "5634/5634 [==============================] - 0s 18us/step - loss: 0.3964 - acc: 0.8099\n",
      "Epoch 32/50\n",
      "5634/5634 [==============================] - 0s 18us/step - loss: 0.3956 - acc: 0.8152\n",
      "Epoch 33/50\n",
      "5634/5634 [==============================] - 0s 18us/step - loss: 0.3944 - acc: 0.8136\n",
      "Epoch 34/50\n",
      "5634/5634 [==============================] - 0s 18us/step - loss: 0.3941 - acc: 0.8142\n",
      "Epoch 35/50\n",
      "5634/5634 [==============================] - 0s 18us/step - loss: 0.3936 - acc: 0.8181\n",
      "Epoch 36/50\n",
      "5634/5634 [==============================] - 0s 18us/step - loss: 0.3936 - acc: 0.8161\n",
      "Epoch 37/50\n",
      "5634/5634 [==============================] - 0s 18us/step - loss: 0.3936 - acc: 0.8163\n",
      "Epoch 38/50\n",
      "5634/5634 [==============================] - 0s 18us/step - loss: 0.3927 - acc: 0.8161\n",
      "Epoch 39/50\n",
      "5634/5634 [==============================] - 0s 18us/step - loss: 0.3919 - acc: 0.8156\n",
      "Epoch 40/50\n",
      "5634/5634 [==============================] - 0s 18us/step - loss: 0.3918 - acc: 0.8136\n",
      "Epoch 41/50\n",
      "5634/5634 [==============================] - 0s 18us/step - loss: 0.3920 - acc: 0.8177\n",
      "Epoch 42/50\n",
      "5634/5634 [==============================] - 0s 18us/step - loss: 0.3918 - acc: 0.8165\n",
      "Epoch 43/50\n",
      "5634/5634 [==============================] - 0s 17us/step - loss: 0.3909 - acc: 0.8147\n",
      "Epoch 44/50\n",
      "5634/5634 [==============================] - 0s 18us/step - loss: 0.3907 - acc: 0.8174\n",
      "Epoch 45/50\n",
      "5634/5634 [==============================] - 0s 18us/step - loss: 0.3900 - acc: 0.8175\n",
      "Epoch 46/50\n",
      "5634/5634 [==============================] - 0s 18us/step - loss: 0.3895 - acc: 0.8181\n",
      "Epoch 47/50\n",
      "5634/5634 [==============================] - 0s 18us/step - loss: 0.3893 - acc: 0.8177\n",
      "Epoch 48/50\n",
      "5634/5634 [==============================] - 0s 17us/step - loss: 0.3887 - acc: 0.8190\n",
      "Epoch 49/50\n",
      "5634/5634 [==============================] - 0s 18us/step - loss: 0.3883 - acc: 0.8204\n",
      "Epoch 50/50\n",
      "5634/5634 [==============================] - 0s 17us/step - loss: 0.3877 - acc: 0.8165\n"
     ]
    },
    {
     "data": {
      "text/plain": [
       "<keras.callbacks.History at 0x23babc9b978>"
      ]
     },
     "execution_count": 14,
     "metadata": {},
     "output_type": "execute_result"
    }
   ],
   "source": [
    "model.fit(X_train, y_train, batch_size=35, epochs=50, verbose=1)"
   ]
  },
  {
   "cell_type": "markdown",
   "metadata": {},
   "source": [
    "And now let's make some <b>predictions</b>."
   ]
  },
  {
   "cell_type": "code",
   "execution_count": 15,
   "metadata": {},
   "outputs": [],
   "source": [
    "y_pred = model.predict(X_test)"
   ]
  },
  {
   "cell_type": "markdown",
   "metadata": {},
   "source": [
    "### Is that it?\n",
    "<br>\n",
    "Hold your horses, cowboy!<br>\n",
    "If you are anywhat familiar with the math of a <b>Sigmoid Function</b> you should know that a sigmoid outputs the likelihood of some event.<br>\n",
    "If we take a look at our <b>y_pred</b> variable, we would see that it has the probabilities of a customer churn.<br>\n",
    "To see how our model performed, however, we should have a <b>True</b>-<b>False</b> variable. And to do so, we must define a threshold to decide when a value becomes 0 and when it becomes 1.<br><br>\n",
    "Our threshold here will be <b>.5</b>"
   ]
  },
  {
   "cell_type": "code",
   "execution_count": 16,
   "metadata": {},
   "outputs": [],
   "source": [
    "y_pred = (y_pred > 0.5)"
   ]
  },
  {
   "cell_type": "markdown",
   "metadata": {},
   "source": [
    "### To the performance!"
   ]
  },
  {
   "cell_type": "code",
   "execution_count": 17,
   "metadata": {},
   "outputs": [
    {
     "name": "stdout",
     "output_type": "stream",
     "text": [
      "[[913 113]\n",
      " [182 201]]\n",
      "\n",
      "\n",
      "             precision    recall  f1-score   support\n",
      "\n",
      "          0       0.83      0.89      0.86      1026\n",
      "          1       0.64      0.52      0.58       383\n",
      "\n",
      "avg / total       0.78      0.79      0.78      1409\n",
      "\n"
     ]
    }
   ],
   "source": [
    "from sklearn.metrics import confusion_matrix, classification_report\n",
    "print (confusion_matrix(y_test, y_pred))\n",
    "print ('\\n')\n",
    "print (classification_report(y_test, y_pred))"
   ]
  },
  {
   "cell_type": "markdown",
   "metadata": {},
   "source": [
    "### Wait a second...\n",
    "<br>\n",
    "We got a relatively <b>lower accuracy</b> in the test set than in the train set. But <b>why</b>?<br>\n",
    "It could mean two things:<br>\n",
    "<b>Overfitting</b>, or...<br>\n",
    "Remember when I said earlier that it <b>wasn't a good idea</b> to just simply train the model? Well, I didn't. But I never said that it was a good one either.<br>\n",
    "The <b>accuracy</b> obtained while training the model could have been just a <b>coincidence</b>, just as I said.<br><br>\n",
    "One way to prevent that is to use SciKit-learn's <b>Cross Validation</b>.<br><br>\n",
    "So let's do just that."
   ]
  },
  {
   "cell_type": "code",
   "execution_count": 18,
   "metadata": {},
   "outputs": [],
   "source": [
    "from sklearn.model_selection import cross_val_score"
   ]
  },
  {
   "cell_type": "markdown",
   "metadata": {},
   "source": [
    "In order to use the <b>Cross Validation</b>, we should observe a couple things:<br><br>\n",
    "<li>\n",
    "The Cross Validation expects, as a parameter, an estimator.\n",
    "</li>\n",
    "<li>\n",
    "But we can't just feed him the model we've created.<br><br>\n",
    "</li>    \n",
    "So, we'll use a <b>wrapper</b> from keras. It will give us a model that we can use with the Cross Validation."
   ]
  },
  {
   "cell_type": "code",
   "execution_count": 19,
   "metadata": {},
   "outputs": [],
   "source": [
    "from keras.wrappers.scikit_learn import KerasClassifier"
   ]
  },
  {
   "cell_type": "markdown",
   "metadata": {},
   "source": [
    "The KerasClassifier also need shomething:<br>\n",
    "A <b>building function</b>.<br>\n",
    "We basically repeat our steps to build the NN. But within a function."
   ]
  },
  {
   "cell_type": "code",
   "execution_count": 20,
   "metadata": {},
   "outputs": [],
   "source": [
    "def build_model():\n",
    "    #creating the Model\n",
    "    model = Sequential()\n",
    "    model.add(Dense(units=16, kernel_initializer='uniform', activation='relu', input_dim=30)) # first hidden layer\n",
    "    model.add(Dense(units=16, kernel_initializer='uniform', activation='relu')) # second hidden layer\n",
    "    model.add(Dense(units=1, kernel_initializer='uniform', activation='sigmoid')) # output layer\n",
    "    model.compile(optimizer='adam', loss='binary_crossentropy', metrics=['accuracy']) #compiling the model\n",
    "    return model"
   ]
  },
  {
   "cell_type": "markdown",
   "metadata": {},
   "source": [
    "Now we instantiate a new <b>Keras Classifier</b> using our <b>building function</b>.<br>\n",
    "And then, we are good to go."
   ]
  },
  {
   "cell_type": "code",
   "execution_count": 21,
   "metadata": {},
   "outputs": [],
   "source": [
    "model = KerasClassifier(build_fn=build_model, batch_size=35, epochs=50, verbose=0)\n",
    "accuracies = cross_val_score(model, X_train, y_train, cv=10, verbose=0)"
   ]
  },
  {
   "cell_type": "code",
   "execution_count": 22,
   "metadata": {},
   "outputs": [
    {
     "name": "stdout",
     "output_type": "stream",
     "text": [
      "Mean:  0.7994252666850727 -- Std:  0.013430464178131032\n"
     ]
    }
   ],
   "source": [
    "print ('Mean: ', accuracies.mean(), '-- Std: ', accuracies.std())"
   ]
  },
  {
   "cell_type": "code",
   "execution_count": 23,
   "metadata": {},
   "outputs": [
    {
     "name": "stdout",
     "output_type": "stream",
     "text": [
      "[[937  89]\n",
      " [199 184]]\n",
      "\n",
      "\n",
      "             precision    recall  f1-score   support\n",
      "\n",
      "          0       0.82      0.91      0.87      1026\n",
      "          1       0.67      0.48      0.56       383\n",
      "\n",
      "avg / total       0.78      0.80      0.78      1409\n",
      "\n"
     ]
    }
   ],
   "source": [
    "model.fit(X_train, y_train, batch_size=35, epochs=50, verbose=0)\n",
    "y_pred = model.predict(X_test)\n",
    "y_pred = (y_pred > 0.5)\n",
    "print (confusion_matrix(y_test, y_pred))\n",
    "print ('\\n')\n",
    "print (classification_report(y_test, y_pred))"
   ]
  },
  {
   "cell_type": "markdown",
   "metadata": {},
   "source": [
    "See? Now we know what to <b>expect</b> regarding accuracy from out NN.<br><br>\n",
    "\n",
    "Right, Right... Now we know what to expect, but <b>isn't this accuracy too little?!</b><br>\n",
    "Well, it ain't. But rest assured, we can <b>make it better</b>.<br><br>\n",
    "\n",
    "<b>But First...</b>"
   ]
  },
  {
   "cell_type": "markdown",
   "metadata": {},
   "source": [
    "### How to prevent Overfitting?\n",
    "<br>\n",
    "Had our NN became overfitted, a simple thing that could help is <b>Dropout</b>.<br>\n",
    "Which, in short, is <b>Learning less, but learning BETTER</b><br>\n",
    "\n",
    "<b>Dropout</b> acts in the layers in which it's added, randomly disabling some neurons.<br>\n",
    "`But, isn't that bad?`<br>\n",
    "Although it sound <b>bad</b>, I can assure you, <b>it is not!</b><br>\n",
    "By doing it, we make sure that our neurons become more independent within the layer.<br>\n",
    "If <b>overfitting</b> is your problem then you should use it.<br>\n",
    "There is no rule of thumb for the <b>percentage of Dropout</b>, so you should play around and see what suits you best.<br>\n",
    "<b>Be careful</b> though, at some point, it will stop being <b>overfitted</b> and become <b>underfitted</b>.<br><br>\n",
    "### Dropout"
   ]
  },
  {
   "cell_type": "code",
   "execution_count": 24,
   "metadata": {},
   "outputs": [],
   "source": [
    "from keras.layers import Dropout"
   ]
  },
  {
   "cell_type": "code",
   "execution_count": 25,
   "metadata": {},
   "outputs": [],
   "source": [
    "def build_model():\n",
    "    #creating the Model\n",
    "    model = Sequential()\n",
    "    model.add(Dense(units=16, kernel_initializer='uniform', activation='relu', input_dim=30)) # first hidden layer\n",
    "    #model.add(Dropout(rate=.1)) uncomment this if you want to add dropout\n",
    "    model.add(Dense(units=16, kernel_initializer='uniform', activation='relu')) # second hidden layer\n",
    "    #model.add(Dropout(rate=.2)) uncomment this if you want to add dropout\n",
    "    model.add(Dense(units=1, kernel_initializer='uniform', activation='sigmoid')) # output layer\n",
    "    #model.add(Dropout(rate=.3)) uncomment this if you want to add dropout\n",
    "    model.compile(optimizer='adam', loss='binary_crossentropy', metrics=['accuracy']) #compiling the model\n",
    "    return model\n",
    "    #play around with the dropout value if you're experiencing overfit"
   ]
  },
  {
   "cell_type": "markdown",
   "metadata": {},
   "source": [
    "We won't add dropout to our NN layers simply because it ain't overfitting,<br>\n",
    "But now you know how to do it if that is your case."
   ]
  },
  {
   "cell_type": "markdown",
   "metadata": {},
   "source": [
    "### Improving Overall Accuracy\n",
    "<br>\n",
    "We'll use the <b>GridSearchCV</b> to improve our NN's accuracy.<br>\n",
    "Basically, we give it a bunch of diferent <b>hyperparameters</b> and the GridSearch will tell us those that <b>performed best</b>, by testing them against each other.<br><br>\n",
    "So, without futher ado..."
   ]
  },
  {
   "cell_type": "code",
   "execution_count": 26,
   "metadata": {},
   "outputs": [],
   "source": [
    "from sklearn.model_selection import GridSearchCV"
   ]
  },
  {
   "cell_type": "markdown",
   "metadata": {},
   "source": [
    "We'll redefine our building function with a little twist, we'll pass an optimizer as a parameter so we can play around with it as well."
   ]
  },
  {
   "cell_type": "code",
   "execution_count": 27,
   "metadata": {},
   "outputs": [],
   "source": [
    "def build_model(optimizer):\n",
    "    #creating the Model\n",
    "    model = Sequential()\n",
    "    model.add(Dense(units=16, kernel_initializer='uniform', activation='relu', input_dim=30)) # first hidden layer\n",
    "    #model.add(Dropout(rate=.1)) uncomment this if you want to add dropout\n",
    "    model.add(Dense(units=16, kernel_initializer='uniform', activation='relu')) # second hidden layer\n",
    "    #model.add(Dropout(rate=.2)) uncomment this if you want to add dropout\n",
    "    model.add(Dense(units=1, kernel_initializer='uniform', activation='sigmoid')) # output layer\n",
    "    #model.add(Dropout(rate=.3)) uncomment this if you want to add dropout\n",
    "    model.compile(optimizer=optimizer, loss='binary_crossentropy', metrics=['accuracy']) #compiling the model\n",
    "    return model\n",
    "    #play around with the dropout value if you're experiencing overfit"
   ]
  },
  {
   "cell_type": "markdown",
   "metadata": {},
   "source": [
    "Just like <b>Cross Validation</b>, <b>Grid Search</b> also expects, as a parameter, an <b>estimator</b> .<br>\n",
    "And, also, the <b>parameters</b>  we want to test:"
   ]
  },
  {
   "cell_type": "code",
   "execution_count": 28,
   "metadata": {},
   "outputs": [],
   "source": [
    "model = KerasClassifier(build_fn=build_model)\n",
    "#please note that this time we are passing neither the 'batch_size' nor the 'epochs' number.\n",
    "#we'll use those as parameters as well.\n",
    "parameters = {'batch_size': [20,30],\n",
    "             'epochs': [50,75],\n",
    "             'optimizer': ['adam']}\n",
    "grid_search = GridSearchCV(estimator=model, param_grid=parameters, scoring='accuracy', cv=10, verbose=0)"
   ]
  },
  {
   "cell_type": "code",
   "execution_count": 29,
   "metadata": {},
   "outputs": [],
   "source": [
    "grid_search = grid_search.fit(X_train, y_train, verbose=0)\n",
    "best_param = grid_search.best_params_\n",
    "best_acc = grid_search.best_score_"
   ]
  },
  {
   "cell_type": "markdown",
   "metadata": {},
   "source": [
    "It will take quite some time. So you'd better go do something else, like take a nap, for instance.<br>\n",
    "No, seriously, go take a nap!"
   ]
  },
  {
   "cell_type": "code",
   "execution_count": 30,
   "metadata": {},
   "outputs": [
    {
     "data": {
      "text/plain": [
       "0.7962371317003905"
      ]
     },
     "execution_count": 30,
     "metadata": {},
     "output_type": "execute_result"
    }
   ],
   "source": [
    "best_acc"
   ]
  },
  {
   "cell_type": "code",
   "execution_count": 31,
   "metadata": {},
   "outputs": [
    {
     "data": {
      "text/plain": [
       "{'batch_size': 20, 'epochs': 50, 'optimizer': 'adam'}"
      ]
     },
     "execution_count": 31,
     "metadata": {},
     "output_type": "execute_result"
    }
   ],
   "source": [
    "best_param"
   ]
  },
  {
   "cell_type": "markdown",
   "metadata": {},
   "source": [
    "`Well.. I wasn't better at all..`<br>\n",
    "I know, I know... But let me tell you a couple things before you close this tab and move on.<br><br>\n",
    "<li>Performing a Grid Search is computationally expensive.</li>\n",
    "<li>I didn't used the best parameters to perform the grid search.</li>\n",
    "<li>Instead, I used the ones that I knew would be fast.</li>\n",
    "<li>I wasn't kidding... performing a grid search with several parameter take HOURS</li><br>\n",
    "\n",
    "Let's make a comparisson:"
   ]
  },
  {
   "cell_type": "code",
   "execution_count": 40,
   "metadata": {},
   "outputs": [],
   "source": [
    "#creating the Model\n",
    "model = Sequential()\n",
    "model.add(Dense(units=16, kernel_initializer='uniform', activation='relu', input_dim=30)) # first hidden layer\n",
    "#model.add(Dropout(rate=.1))\n",
    "model.add(Dense(units=16, kernel_initializer='uniform', activation='relu')) # second hidden layer\n",
    "#model.add(Dropout(rate=.1))\n",
    "#model.add(Dense(units=16, kernel_initializer='uniform', activation='relu')) # third hidden layer\n",
    "model.add(Dense(units=1, kernel_initializer='uniform', activation='sigmoid')) # output layer\n",
    "model.compile(optimizer='adam', loss='binary_crossentropy', metrics=['accuracy']) #compiling the model"
   ]
  },
  {
   "cell_type": "code",
   "execution_count": 41,
   "metadata": {},
   "outputs": [
    {
     "data": {
      "text/plain": [
       "<keras.callbacks.History at 0x23bd8e86da0>"
      ]
     },
     "execution_count": 41,
     "metadata": {},
     "output_type": "execute_result"
    }
   ],
   "source": [
    "model.fit(X_train, y_train, batch_size=20, epochs=150, verbose=0)"
   ]
  },
  {
   "cell_type": "code",
   "execution_count": 42,
   "metadata": {},
   "outputs": [],
   "source": [
    "y_pred = model.predict(X_test)\n",
    "y_pred = (y_pred > 0.5)"
   ]
  },
  {
   "cell_type": "code",
   "execution_count": 43,
   "metadata": {},
   "outputs": [
    {
     "name": "stdout",
     "output_type": "stream",
     "text": [
      "[[920 106]\n",
      " [197 186]]\n",
      "\n",
      "\n",
      "             precision    recall  f1-score   support\n",
      "\n",
      "          0       0.82      0.90      0.86      1026\n",
      "          1       0.64      0.49      0.55       383\n",
      "\n",
      "avg / total       0.77      0.78      0.78      1409\n",
      "\n"
     ]
    }
   ],
   "source": [
    "print (confusion_matrix(y_test, y_pred))\n",
    "print ('\\n')\n",
    "print (classification_report(y_test, y_pred))"
   ]
  },
  {
   "cell_type": "code",
   "execution_count": 44,
   "metadata": {},
   "outputs": [
    {
     "name": "stdout",
     "output_type": "stream",
     "text": [
      "[[960  66]\n",
      " [230 153]]\n",
      "\n",
      "\n",
      "             precision    recall  f1-score   support\n",
      "\n",
      "          0       0.81      0.94      0.87      1026\n",
      "          1       0.70      0.40      0.51       383\n",
      "\n",
      "avg / total       0.78      0.79      0.77      1409\n",
      "\n"
     ]
    }
   ],
   "source": [
    "y_pred = grid_search.predict(X_test)\n",
    "y_pred = (y_pred > 0.5)\n",
    "print (confusion_matrix(y_test, y_pred))\n",
    "print ('\\n')\n",
    "print (classification_report(y_test, y_pred))"
   ]
  }
 ],
 "metadata": {
  "kernelspec": {
   "display_name": "Python 3",
   "language": "python",
   "name": "python3"
  },
  "language_info": {
   "codemirror_mode": {
    "name": "ipython",
    "version": 3
   },
   "file_extension": ".py",
   "mimetype": "text/x-python",
   "name": "python",
   "nbconvert_exporter": "python",
   "pygments_lexer": "ipython3",
   "version": "3.6.6"
  }
 },
 "nbformat": 4,
 "nbformat_minor": 2
}
